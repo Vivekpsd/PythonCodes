{
 "cells": [
  {
   "cell_type": "code",
   "execution_count": 1,
   "id": "9ffba4ca",
   "metadata": {},
   "outputs": [],
   "source": [
    "import numpy as np\n",
    "import pandas as pd"
   ]
  },
  {
   "cell_type": "code",
   "execution_count": 2,
   "id": "7d4bd99b",
   "metadata": {},
   "outputs": [
    {
     "data": {
      "text/plain": [
       "{'name': ['Vivek', 'Pawan', 'Kiran', 'Mohit'],\n",
       " 'marks': [24, 34, 22, 1],\n",
       " 'city': ['Jalandhar', 'Rishikesh', 'Pune', 'Patna']}"
      ]
     },
     "execution_count": 2,
     "metadata": {},
     "output_type": "execute_result"
    }
   ],
   "source": [
    "dist = {\n",
    "    \"name\":['Vivek', 'Pawan', 'Kiran', 'Mohit'],\n",
    "    \"marks\": [24, 34, 22, 1],\n",
    "    \"city\":['Jalandhar', 'Rishikesh', 'Pune', 'Patna']\n",
    "}\n",
    "dist"
   ]
  },
  {
   "cell_type": "code",
   "execution_count": 3,
   "id": "610cec48",
   "metadata": {},
   "outputs": [
    {
     "data": {
      "text/html": [
       "<div>\n",
       "<style scoped>\n",
       "    .dataframe tbody tr th:only-of-type {\n",
       "        vertical-align: middle;\n",
       "    }\n",
       "\n",
       "    .dataframe tbody tr th {\n",
       "        vertical-align: top;\n",
       "    }\n",
       "\n",
       "    .dataframe thead th {\n",
       "        text-align: right;\n",
       "    }\n",
       "</style>\n",
       "<table border=\"1\" class=\"dataframe\">\n",
       "  <thead>\n",
       "    <tr style=\"text-align: right;\">\n",
       "      <th></th>\n",
       "      <th>name</th>\n",
       "      <th>marks</th>\n",
       "      <th>city</th>\n",
       "    </tr>\n",
       "  </thead>\n",
       "  <tbody>\n",
       "    <tr>\n",
       "      <th>0</th>\n",
       "      <td>Vivek</td>\n",
       "      <td>24</td>\n",
       "      <td>Jalandhar</td>\n",
       "    </tr>\n",
       "    <tr>\n",
       "      <th>1</th>\n",
       "      <td>Pawan</td>\n",
       "      <td>34</td>\n",
       "      <td>Rishikesh</td>\n",
       "    </tr>\n",
       "    <tr>\n",
       "      <th>2</th>\n",
       "      <td>Kiran</td>\n",
       "      <td>22</td>\n",
       "      <td>Pune</td>\n",
       "    </tr>\n",
       "    <tr>\n",
       "      <th>3</th>\n",
       "      <td>Mohit</td>\n",
       "      <td>1</td>\n",
       "      <td>Patna</td>\n",
       "    </tr>\n",
       "  </tbody>\n",
       "</table>\n",
       "</div>"
      ],
      "text/plain": [
       "    name  marks       city\n",
       "0  Vivek     24  Jalandhar\n",
       "1  Pawan     34  Rishikesh\n",
       "2  Kiran     22       Pune\n",
       "3  Mohit      1      Patna"
      ]
     },
     "execution_count": 3,
     "metadata": {},
     "output_type": "execute_result"
    }
   ],
   "source": [
    "df = pd.DataFrame(dist)\n",
    "df"
   ]
  },
  {
   "cell_type": "code",
   "execution_count": 4,
   "id": "39be8ac7",
   "metadata": {},
   "outputs": [],
   "source": [
    "df.to_csv('friends.csv')"
   ]
  },
  {
   "cell_type": "code",
   "execution_count": 5,
   "id": "7333977b",
   "metadata": {},
   "outputs": [
    {
     "data": {
      "text/html": [
       "<div>\n",
       "<style scoped>\n",
       "    .dataframe tbody tr th:only-of-type {\n",
       "        vertical-align: middle;\n",
       "    }\n",
       "\n",
       "    .dataframe tbody tr th {\n",
       "        vertical-align: top;\n",
       "    }\n",
       "\n",
       "    .dataframe thead th {\n",
       "        text-align: right;\n",
       "    }\n",
       "</style>\n",
       "<table border=\"1\" class=\"dataframe\">\n",
       "  <thead>\n",
       "    <tr style=\"text-align: right;\">\n",
       "      <th></th>\n",
       "      <th>name</th>\n",
       "      <th>marks</th>\n",
       "      <th>city</th>\n",
       "    </tr>\n",
       "  </thead>\n",
       "  <tbody>\n",
       "    <tr>\n",
       "      <th>0</th>\n",
       "      <td>Vivek</td>\n",
       "      <td>24</td>\n",
       "      <td>Jalandhar</td>\n",
       "    </tr>\n",
       "    <tr>\n",
       "      <th>1</th>\n",
       "      <td>Pawan</td>\n",
       "      <td>34</td>\n",
       "      <td>Rishikesh</td>\n",
       "    </tr>\n",
       "  </tbody>\n",
       "</table>\n",
       "</div>"
      ],
      "text/plain": [
       "    name  marks       city\n",
       "0  Vivek     24  Jalandhar\n",
       "1  Pawan     34  Rishikesh"
      ]
     },
     "execution_count": 5,
     "metadata": {},
     "output_type": "execute_result"
    }
   ],
   "source": [
    "df.head(2)"
   ]
  },
  {
   "cell_type": "code",
   "execution_count": 6,
   "id": "092b8261",
   "metadata": {},
   "outputs": [
    {
     "data": {
      "text/html": [
       "<div>\n",
       "<style scoped>\n",
       "    .dataframe tbody tr th:only-of-type {\n",
       "        vertical-align: middle;\n",
       "    }\n",
       "\n",
       "    .dataframe tbody tr th {\n",
       "        vertical-align: top;\n",
       "    }\n",
       "\n",
       "    .dataframe thead th {\n",
       "        text-align: right;\n",
       "    }\n",
       "</style>\n",
       "<table border=\"1\" class=\"dataframe\">\n",
       "  <thead>\n",
       "    <tr style=\"text-align: right;\">\n",
       "      <th></th>\n",
       "      <th>marks</th>\n",
       "    </tr>\n",
       "  </thead>\n",
       "  <tbody>\n",
       "    <tr>\n",
       "      <th>count</th>\n",
       "      <td>4.000000</td>\n",
       "    </tr>\n",
       "    <tr>\n",
       "      <th>mean</th>\n",
       "      <td>20.250000</td>\n",
       "    </tr>\n",
       "    <tr>\n",
       "      <th>std</th>\n",
       "      <td>13.865425</td>\n",
       "    </tr>\n",
       "    <tr>\n",
       "      <th>min</th>\n",
       "      <td>1.000000</td>\n",
       "    </tr>\n",
       "    <tr>\n",
       "      <th>25%</th>\n",
       "      <td>16.750000</td>\n",
       "    </tr>\n",
       "    <tr>\n",
       "      <th>50%</th>\n",
       "      <td>23.000000</td>\n",
       "    </tr>\n",
       "    <tr>\n",
       "      <th>75%</th>\n",
       "      <td>26.500000</td>\n",
       "    </tr>\n",
       "    <tr>\n",
       "      <th>max</th>\n",
       "      <td>34.000000</td>\n",
       "    </tr>\n",
       "  </tbody>\n",
       "</table>\n",
       "</div>"
      ],
      "text/plain": [
       "           marks\n",
       "count   4.000000\n",
       "mean   20.250000\n",
       "std    13.865425\n",
       "min     1.000000\n",
       "25%    16.750000\n",
       "50%    23.000000\n",
       "75%    26.500000\n",
       "max    34.000000"
      ]
     },
     "execution_count": 6,
     "metadata": {},
     "output_type": "execute_result"
    }
   ],
   "source": [
    "df.describe()"
   ]
  },
  {
   "cell_type": "code",
   "execution_count": 7,
   "id": "350c9737",
   "metadata": {},
   "outputs": [
    {
     "data": {
      "text/html": [
       "<div>\n",
       "<style scoped>\n",
       "    .dataframe tbody tr th:only-of-type {\n",
       "        vertical-align: middle;\n",
       "    }\n",
       "\n",
       "    .dataframe tbody tr th {\n",
       "        vertical-align: top;\n",
       "    }\n",
       "\n",
       "    .dataframe thead th {\n",
       "        text-align: right;\n",
       "    }\n",
       "</style>\n",
       "<table border=\"1\" class=\"dataframe\">\n",
       "  <thead>\n",
       "    <tr style=\"text-align: right;\">\n",
       "      <th></th>\n",
       "      <th>Train no</th>\n",
       "      <th>Tname</th>\n",
       "      <th>code</th>\n",
       "      <th>city</th>\n",
       "    </tr>\n",
       "  </thead>\n",
       "  <tbody>\n",
       "    <tr>\n",
       "      <th>0</th>\n",
       "      <td>124</td>\n",
       "      <td>VV</td>\n",
       "      <td>24df</td>\n",
       "      <td>Jalandhar</td>\n",
       "    </tr>\n",
       "    <tr>\n",
       "      <th>1</th>\n",
       "      <td>3345</td>\n",
       "      <td>TT</td>\n",
       "      <td>sdf</td>\n",
       "      <td>Rishikesh</td>\n",
       "    </tr>\n",
       "    <tr>\n",
       "      <th>2</th>\n",
       "      <td>345</td>\n",
       "      <td>ak</td>\n",
       "      <td>wer34</td>\n",
       "      <td>Pune</td>\n",
       "    </tr>\n",
       "    <tr>\n",
       "      <th>3</th>\n",
       "      <td>345</td>\n",
       "      <td>rt</td>\n",
       "      <td>13f</td>\n",
       "      <td>Patna</td>\n",
       "    </tr>\n",
       "  </tbody>\n",
       "</table>\n",
       "</div>"
      ],
      "text/plain": [
       "   Train no Tname   code       city\n",
       "0       124    VV   24df  Jalandhar\n",
       "1      3345    TT    sdf  Rishikesh\n",
       "2       345    ak  wer34       Pune\n",
       "3       345    rt    13f      Patna"
      ]
     },
     "execution_count": 7,
     "metadata": {},
     "output_type": "execute_result"
    }
   ],
   "source": [
    "train = pd.read_csv('vivek.csv')\n",
    "train"
   ]
  },
  {
   "cell_type": "code",
   "execution_count": 8,
   "id": "9819b995",
   "metadata": {},
   "outputs": [
    {
     "data": {
      "text/plain": [
       "0     24df\n",
       "1      sdf\n",
       "2    wer34\n",
       "3      13f\n",
       "Name: code, dtype: object"
      ]
     },
     "execution_count": 8,
     "metadata": {},
     "output_type": "execute_result"
    }
   ],
   "source": [
    "train['code']"
   ]
  },
  {
   "cell_type": "code",
   "execution_count": 9,
   "id": "d437086e",
   "metadata": {},
   "outputs": [
    {
     "data": {
      "text/plain": [
       "'24df'"
      ]
     },
     "execution_count": 9,
     "metadata": {},
     "output_type": "execute_result"
    }
   ],
   "source": [
    "train['code'][0]"
   ]
  },
  {
   "cell_type": "code",
   "execution_count": 12,
   "id": "2bb77c7c",
   "metadata": {},
   "outputs": [],
   "source": [
    "ser = pd.Series(np.random.rand(10))"
   ]
  },
  {
   "cell_type": "code",
   "execution_count": 13,
   "id": "87277053",
   "metadata": {},
   "outputs": [
    {
     "data": {
      "text/plain": [
       "0    0.601365\n",
       "1    0.381891\n",
       "2    0.660506\n",
       "3    0.230515\n",
       "4    0.548959\n",
       "5    0.798461\n",
       "6    0.617765\n",
       "7    0.891138\n",
       "8    0.669511\n",
       "9    0.488886\n",
       "dtype: float64"
      ]
     },
     "execution_count": 13,
     "metadata": {},
     "output_type": "execute_result"
    }
   ],
   "source": [
    "ser"
   ]
  },
  {
   "cell_type": "code",
   "execution_count": 15,
   "id": "14e1a751",
   "metadata": {},
   "outputs": [],
   "source": [
    "newdf = pd.DataFrame(np.random.rand(343, 5), index = np.arange(343))"
   ]
  },
  {
   "cell_type": "code",
   "execution_count": 16,
   "id": "c31d2f24",
   "metadata": {},
   "outputs": [
    {
     "data": {
      "text/html": [
       "<div>\n",
       "<style scoped>\n",
       "    .dataframe tbody tr th:only-of-type {\n",
       "        vertical-align: middle;\n",
       "    }\n",
       "\n",
       "    .dataframe tbody tr th {\n",
       "        vertical-align: top;\n",
       "    }\n",
       "\n",
       "    .dataframe thead th {\n",
       "        text-align: right;\n",
       "    }\n",
       "</style>\n",
       "<table border=\"1\" class=\"dataframe\">\n",
       "  <thead>\n",
       "    <tr style=\"text-align: right;\">\n",
       "      <th></th>\n",
       "      <th>0</th>\n",
       "      <th>1</th>\n",
       "      <th>2</th>\n",
       "      <th>3</th>\n",
       "      <th>4</th>\n",
       "    </tr>\n",
       "  </thead>\n",
       "  <tbody>\n",
       "    <tr>\n",
       "      <th>0</th>\n",
       "      <td>0.468468</td>\n",
       "      <td>0.849496</td>\n",
       "      <td>0.243714</td>\n",
       "      <td>0.530413</td>\n",
       "      <td>0.679727</td>\n",
       "    </tr>\n",
       "    <tr>\n",
       "      <th>1</th>\n",
       "      <td>0.172124</td>\n",
       "      <td>0.959683</td>\n",
       "      <td>0.905709</td>\n",
       "      <td>0.778006</td>\n",
       "      <td>0.769508</td>\n",
       "    </tr>\n",
       "    <tr>\n",
       "      <th>2</th>\n",
       "      <td>0.540864</td>\n",
       "      <td>0.954172</td>\n",
       "      <td>0.320976</td>\n",
       "      <td>0.916964</td>\n",
       "      <td>0.290370</td>\n",
       "    </tr>\n",
       "    <tr>\n",
       "      <th>3</th>\n",
       "      <td>0.354177</td>\n",
       "      <td>0.627933</td>\n",
       "      <td>0.827419</td>\n",
       "      <td>0.927723</td>\n",
       "      <td>0.109371</td>\n",
       "    </tr>\n",
       "    <tr>\n",
       "      <th>4</th>\n",
       "      <td>0.113121</td>\n",
       "      <td>0.413756</td>\n",
       "      <td>0.695783</td>\n",
       "      <td>0.634937</td>\n",
       "      <td>0.614159</td>\n",
       "    </tr>\n",
       "    <tr>\n",
       "      <th>...</th>\n",
       "      <td>...</td>\n",
       "      <td>...</td>\n",
       "      <td>...</td>\n",
       "      <td>...</td>\n",
       "      <td>...</td>\n",
       "    </tr>\n",
       "    <tr>\n",
       "      <th>338</th>\n",
       "      <td>0.260334</td>\n",
       "      <td>0.952502</td>\n",
       "      <td>0.837527</td>\n",
       "      <td>0.091066</td>\n",
       "      <td>0.576569</td>\n",
       "    </tr>\n",
       "    <tr>\n",
       "      <th>339</th>\n",
       "      <td>0.167563</td>\n",
       "      <td>0.390717</td>\n",
       "      <td>0.218270</td>\n",
       "      <td>0.455525</td>\n",
       "      <td>0.608579</td>\n",
       "    </tr>\n",
       "    <tr>\n",
       "      <th>340</th>\n",
       "      <td>0.416546</td>\n",
       "      <td>0.355585</td>\n",
       "      <td>0.473064</td>\n",
       "      <td>0.418996</td>\n",
       "      <td>0.805456</td>\n",
       "    </tr>\n",
       "    <tr>\n",
       "      <th>341</th>\n",
       "      <td>0.140612</td>\n",
       "      <td>0.771119</td>\n",
       "      <td>0.119568</td>\n",
       "      <td>0.130758</td>\n",
       "      <td>0.443738</td>\n",
       "    </tr>\n",
       "    <tr>\n",
       "      <th>342</th>\n",
       "      <td>0.826515</td>\n",
       "      <td>0.576492</td>\n",
       "      <td>0.854974</td>\n",
       "      <td>0.169631</td>\n",
       "      <td>0.538068</td>\n",
       "    </tr>\n",
       "  </tbody>\n",
       "</table>\n",
       "<p>343 rows × 5 columns</p>\n",
       "</div>"
      ],
      "text/plain": [
       "            0         1         2         3         4\n",
       "0    0.468468  0.849496  0.243714  0.530413  0.679727\n",
       "1    0.172124  0.959683  0.905709  0.778006  0.769508\n",
       "2    0.540864  0.954172  0.320976  0.916964  0.290370\n",
       "3    0.354177  0.627933  0.827419  0.927723  0.109371\n",
       "4    0.113121  0.413756  0.695783  0.634937  0.614159\n",
       "..        ...       ...       ...       ...       ...\n",
       "338  0.260334  0.952502  0.837527  0.091066  0.576569\n",
       "339  0.167563  0.390717  0.218270  0.455525  0.608579\n",
       "340  0.416546  0.355585  0.473064  0.418996  0.805456\n",
       "341  0.140612  0.771119  0.119568  0.130758  0.443738\n",
       "342  0.826515  0.576492  0.854974  0.169631  0.538068\n",
       "\n",
       "[343 rows x 5 columns]"
      ]
     },
     "execution_count": 16,
     "metadata": {},
     "output_type": "execute_result"
    }
   ],
   "source": [
    "newdf"
   ]
  },
  {
   "cell_type": "code",
   "execution_count": 17,
   "id": "4cb59ddc",
   "metadata": {},
   "outputs": [
    {
     "data": {
      "text/plain": [
       "pandas.core.series.Series"
      ]
     },
     "execution_count": 17,
     "metadata": {},
     "output_type": "execute_result"
    }
   ],
   "source": [
    "type(ser)"
   ]
  },
  {
   "cell_type": "code",
   "execution_count": 18,
   "id": "e1a60bad",
   "metadata": {},
   "outputs": [
    {
     "data": {
      "text/plain": [
       "pandas.core.frame.DataFrame"
      ]
     },
     "execution_count": 18,
     "metadata": {},
     "output_type": "execute_result"
    }
   ],
   "source": [
    "type(newdf)"
   ]
  },
  {
   "cell_type": "code",
   "execution_count": null,
   "id": "ad190ebe",
   "metadata": {},
   "outputs": [],
   "source": []
  }
 ],
 "metadata": {
  "kernelspec": {
   "display_name": "Python 3 (ipykernel)",
   "language": "python",
   "name": "python3"
  },
  "language_info": {
   "codemirror_mode": {
    "name": "ipython",
    "version": 3
   },
   "file_extension": ".py",
   "mimetype": "text/x-python",
   "name": "python",
   "nbconvert_exporter": "python",
   "pygments_lexer": "ipython3",
   "version": "3.11.2"
  }
 },
 "nbformat": 4,
 "nbformat_minor": 5
}
